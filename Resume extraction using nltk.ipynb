{
 "cells": [
  {
   "cell_type": "code",
   "execution_count": null,
   "metadata": {
    "colab": {
     "base_uri": "https://localhost:8080/"
    },
    "id": "vusDPISdxu10",
    "outputId": "514da749-1fb9-4c2d-8ec3-197a7fc6e657"
   },
   "outputs": [
    {
     "name": "stdout",
     "output_type": "stream",
     "text": [
      "Collecting PyMuPDF\n",
      "\u001b[?25l  Downloading https://files.pythonhosted.org/packages/41/a6/4eb35955856b966add3b2232e4491643b3a9c6b83cb6c521d3f0b38b3aa8/PyMuPDF-1.18.2-cp36-cp36m-manylinux2010_x86_64.whl (6.3MB)\n",
      "\u001b[K     |████████████████████████████████| 6.3MB 4.1MB/s \n",
      "\u001b[?25hInstalling collected packages: PyMuPDF\n",
      "Successfully installed PyMuPDF-1.18.2\n"
     ]
    }
   ],
   "source": [
    "!pip install PyMuPDF"
   ]
  },
  {
   "cell_type": "code",
   "execution_count": null,
   "metadata": {
    "id": "d5RkTZWkx2dc"
   },
   "outputs": [],
   "source": [
    "import spacy\n",
    "import fitz\n",
    "from spacy.matcher import PhraseMatcher\n",
    "import plac\n",
    "from pathlib import Path\n",
    "import random\n"
   ]
  },
  {
   "cell_type": "markdown",
   "metadata": {
    "id": "fL7WsW6_3Rfd"
   },
   "source": [
    "adding the named entity recognition pipe into the model"
   ]
  },
  {
   "cell_type": "code",
   "execution_count": null,
   "metadata": {
    "id": "-rswmk2RwRxV"
   },
   "outputs": [],
   "source": [
    "nlp = spacy.load('en')\n",
    "if 'ner' not in nlp.pipe_names:\n",
    "  ner = nlp.create_pipe('ner')\n",
    "  nlp.add_pipe(ner)\n",
    "else:\n",
    "  ner = nlp.get_pipe('ner')\n",
    "\n"
   ]
  },
  {
   "cell_type": "markdown",
   "metadata": {
    "id": "jjolhhjH3cYR"
   },
   "source": [
    "conerting a pdf into text"
   ]
  },
  {
   "cell_type": "code",
   "execution_count": null,
   "metadata": {
    "colab": {
     "base_uri": "https://localhost:8080/"
    },
    "id": "m740yBaiw7ne",
    "outputId": "035313ba-d1e1-45b1-d90a-bd436c635a6a"
   },
   "outputs": [
    {
     "name": "stdout",
     "output_type": "stream",
     "text": [
      "Alice Clark  AI / Machine Learning    Delhi, India Email me on Indeed    20+ years of experience in data handling, design, and development    Data Warehouse: Data analysis, star/snow flake scema data modelling and design specific to  data warehousing and business intelligence    Database: Experience in database designing, scalability, back-up and recovery, writing and  optimizing SQL code and Stored Procedures, creating functions, views, triggers and indexes.  Cloud platform: Worked on Microsoft Azure cloud services like Document DB, SQL Azure,  Stream Analytics, Event hub, Power BI, Web Job, Web App, Power BI, Azure data lake  analytics(U-SQL)  Willing to relocate anywhere    WORK EXPERIENCE  Software Engineer  Microsoft – Bangalore, Karnataka  January 2000 to Present  1. Microsoft Rewards Live dashboards:  Description: - Microsoft rewards is loyalty program that rewards Users for browsing and shopping  online. Microsoft Rewards members can earn points when searching with Bing, browsing with  Microsoft Edge and making purchases at the Xbox Store, the Windows Store and the Microsoft  Store. Plus, user can pick up bonus points for taking daily quizzes and tours on the Microsoft  rewards website. Rewards live dashboards gives a live picture of usage world-wide and by  markets like US, Canada, Australia, new user registration count, top/bottom performing rewards  offers, orders stats and weekly trends of user activities, orders and new user registrations. the  PBI tiles gets refreshed in different frequencies starting from 5 seconds to 30 minutes.  Technology/Tools used    EDUCATION  Indian Institute of Technology – Mumbai  2001    SKILLS  Machine Learning, Natural Language Processing, and Big Data Handling    ADDITIONAL INFORMATION  Professional Skills  • Excellent analytical, problem solving, communication, knowledge transfer and interpersonal  skills with ability to interact with individuals at all the levels  • Quick learner and maintains cordial relationship with project manager and team members and  good performer both in team and independent job environments  • Positive attitude towards superiors &amp; peers  • Supervised junior developers throughout project lifecycle and provided technical assistance  \n"
     ]
    }
   ],
   "source": [
    "fname = 'Alice Clark CV.pdf'\n",
    "document = fitz.open(fname)\n",
    "text= \"\"\n",
    "for page in document:\n",
    "    text = text + str(page.getText())\n",
    "    \n",
    "tx = \" \".join(text.split('\\n'))   \n",
    "print(tx)"
   ]
  },
  {
   "cell_type": "markdown",
   "metadata": {
    "id": "kXMqugIH3p3D"
   },
   "source": [
    "processing the text using the ner model"
   ]
  },
  {
   "cell_type": "code",
   "execution_count": null,
   "metadata": {
    "id": "sMsTnLWK_6qz"
   },
   "outputs": [],
   "source": []
  },
  {
   "cell_type": "code",
   "execution_count": null,
   "metadata": {
    "id": "q8pC7n_hzkF1"
   },
   "outputs": [],
   "source": [
    "doc = nlp(tx)\n",
    "ents = [(x.text,x.label_) for x in doc.ents] \n",
    "print(ents) \n",
    "ents"
   ]
  },
  {
   "cell_type": "markdown",
   "metadata": {
    "id": "ZYneresI3uhm"
   },
   "source": [
    "getting rid of stop words using part of speech\n",
    "\n"
   ]
  },
  {
   "cell_type": "code",
   "execution_count": null,
   "metadata": {
    "id": "35lilHOjxVrF"
   },
   "outputs": [],
   "source": [
    "cleaned = [y for y in doc if not y.is_stop and y.pos_ != 'PUNCT']\n",
    "raw = [(x.lemma_,x.pos_) for x in cleaned]\n",
    "print(raw)\n",
    "raw"
   ]
  },
  {
   "cell_type": "markdown",
   "metadata": {
    "id": "USKNqUyf33HD"
   },
   "source": [
    "sample version of getting the entities"
   ]
  },
  {
   "cell_type": "code",
   "execution_count": null,
   "metadata": {
    "id": "rkdjGxSE39aa"
   },
   "outputs": [],
   "source": [
    "res = []\n",
    "to_train_ents = []\n",
    "with open('main_data.txt') as ds:\n",
    "  line = True\n",
    "  while line:\n",
    "    line = gh.readline()\n",
    "    mnlp_line = nlp.(line)\n",
    "    to_train_ents.append"
   ]
  },
  {
   "cell_type": "code",
   "execution_count": null,
   "metadata": {
    "id": "F6rJ3JymAaky"
   },
   "outputs": [],
   "source": [
    "label = ='CIADIR'\n",
    "matcher = PhraseMatcher(nlp.vocab)\n",
    "for i in ['Gina Haspel', 'Gina', 'Haspel']\n",
    "matcher.add"
   ]
  }
 ],
 "metadata": {
  "colab": {
   "name": "Untitled4.ipynb",
   "provenance": []
  },
  "kernelspec": {
   "display_name": "Python 3",
   "language": "python",
   "name": "python3"
  },
  "language_info": {
   "codemirror_mode": {
    "name": "ipython",
    "version": 3
   },
   "file_extension": ".py",
   "mimetype": "text/x-python",
   "name": "python",
   "nbconvert_exporter": "python",
   "pygments_lexer": "ipython3",
   "version": "3.7.6"
  }
 },
 "nbformat": 4,
 "nbformat_minor": 1
}
